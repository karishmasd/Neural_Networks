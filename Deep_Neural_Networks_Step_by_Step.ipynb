{
  "nbformat": 4,
  "nbformat_minor": 0,
  "metadata": {
    "colab": {
      "provenance": [],
      "authorship_tag": "ABX9TyNSw8x4V4IEwHugpuDhqdXV",
      "include_colab_link": true
    },
    "kernelspec": {
      "name": "python3",
      "display_name": "Python 3"
    },
    "language_info": {
      "name": "python"
    }
  },
  "cells": [
    {
      "cell_type": "markdown",
      "metadata": {
        "id": "view-in-github",
        "colab_type": "text"
      },
      "source": [
        "<a href=\"https://colab.research.google.com/github/karishmasd/Neural_Networks/blob/main/Deep_Neural_Networks_Step_by_Step.ipynb\" target=\"_parent\"><img src=\"https://colab.research.google.com/assets/colab-badge.svg\" alt=\"Open In Colab\"/></a>"
      ]
    },
    {
      "cell_type": "markdown",
      "source": [
        "#**Packages**"
      ],
      "metadata": {
        "id": "0noXYQZrmBWc"
      }
    },
    {
      "cell_type": "code",
      "source": [
        "import numpy as np\n",
        "import sklearn\n",
        "import copy\n",
        "import matplotlib.pyplot as plt\n",
        "%matplotlib inline"
      ],
      "metadata": {
        "id": "-autwt-nmLOV"
      },
      "execution_count": 4,
      "outputs": []
    },
    {
      "cell_type": "markdown",
      "source": [
        "#**Initialization**"
      ],
      "metadata": {
        "id": "E9ZCnTbknVoD"
      }
    },
    {
      "cell_type": "markdown",
      "source": [
        "#*2 layer NN*"
      ],
      "metadata": {
        "id": "YixRNLTwngHs"
      }
    },
    {
      "cell_type": "code",
      "source": [
        "def initialize_parameters(n_x,n_h,n_y):\n",
        "    np.random.seed(1)\n",
        "    W1=np.random.randn(n_h,n_x)*0.01\n",
        "    b1=np.zeros((n_h,1))\n",
        "    W2=np.random.randn(n_y,n_h)*0.01\n",
        "    b2=np.zeros((n_y,1))\n",
        "    parameters={\"W1\":W1,\"b1\":b1,\"W2\":W2,\"b2\":b2}\n",
        "    return parameters"
      ],
      "metadata": {
        "id": "0OSdX26imjBc"
      },
      "execution_count": 8,
      "outputs": []
    },
    {
      "cell_type": "markdown",
      "source": [
        "#*L-Layer NN*"
      ],
      "metadata": {
        "id": "e07WwFjMpdnp"
      }
    },
    {
      "cell_type": "code",
      "source": [
        "def initialize_parameters_deep(layer_dims):\n",
        "  np.random.seed(3)\n",
        "  L= len(layer_dims)\n",
        "  parameters={}\n",
        "  for i in range(1,L):\n",
        "    parameters['W'+str(i)]=np.random.randn(layer_dims[i],layer_dims[i-1])*0.01\n",
        "    parameters['b'+str(i)]=np.zeros((layer_dims[i],1))\n",
        "  return parameters"
      ],
      "metadata": {
        "id": "5jen-IGSo2UF"
      },
      "execution_count": 9,
      "outputs": []
    },
    {
      "cell_type": "markdown",
      "source": [
        "#**Forward Propogation**"
      ],
      "metadata": {
        "id": "VxKn2T-Xseuq"
      }
    },
    {
      "cell_type": "code",
      "source": [],
      "metadata": {
        "id": "x0TxEtG8sZZW"
      },
      "execution_count": null,
      "outputs": []
    }
  ]
}