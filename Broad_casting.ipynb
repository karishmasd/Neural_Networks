{
  "nbformat": 4,
  "nbformat_minor": 0,
  "metadata": {
    "colab": {
      "provenance": [],
      "authorship_tag": "ABX9TyMvmYcEozzWjIl7zzbTvWGY",
      "include_colab_link": true
    },
    "kernelspec": {
      "name": "python3",
      "display_name": "Python 3"
    },
    "language_info": {
      "name": "python"
    }
  },
  "cells": [
    {
      "cell_type": "markdown",
      "metadata": {
        "id": "view-in-github",
        "colab_type": "text"
      },
      "source": [
        "<a href=\"https://colab.research.google.com/github/karishmasd/Neural_Networks/blob/main/Broad_casting.ipynb\" target=\"_parent\"><img src=\"https://colab.research.google.com/assets/colab-badge.svg\" alt=\"Open In Colab\"/></a>"
      ]
    },
    {
      "cell_type": "code",
      "execution_count": 1,
      "metadata": {
        "id": "5k8Pr2ufTD5M"
      },
      "outputs": [],
      "source": [
        "import numpy as np\n"
      ]
    },
    {
      "cell_type": "markdown",
      "source": [
        "Calories from  Carbs ,Protiens ,fats in 100gms of different foods"
      ],
      "metadata": {
        "id": "x5-R2DuCTOhF"
      }
    },
    {
      "cell_type": "code",
      "source": [
        "Apples =[56,1.2,1.8]\n",
        "Beef=[0,104.0,135.0]\n",
        "Eggs=[4.4,52.0,99.0]\n",
        "Potatoes=[68.0,8.0,0.9]\n",
        "calories=(np.array([Apples,Beef,Eggs,Potatoes])).T\n",
        "calories"
      ],
      "metadata": {
        "colab": {
          "base_uri": "https://localhost:8080/"
        },
        "id": "j4WnYPrRTarf",
        "outputId": "e32f1cdb-b91f-4ad7-e69c-fb2f05bd57ea"
      },
      "execution_count": 5,
      "outputs": [
        {
          "output_type": "execute_result",
          "data": {
            "text/plain": [
              "array([[ 56. ,   0. ,   4.4,  68. ],\n",
              "       [  1.2, 104. ,  52. ,   8. ],\n",
              "       [  1.8, 135. ,  99. ,   0.9]])"
            ]
          },
          "metadata": {},
          "execution_count": 5
        }
      ]
    },
    {
      "cell_type": "markdown",
      "source": [
        "Calculate the percentage of calories from carbs , protein and fats from each food"
      ],
      "metadata": {
        "id": "2TjHDzcEVFjX"
      }
    },
    {
      "cell_type": "code",
      "source": [
        "Weight=100\n",
        "sum=np.sum(calories,axis=0)\n",
        "percentage_of_calories = (calories/(sum))*Weight\n",
        "#broadcasting:here python has automatically used the weight as 4*1 matrix to  the element wise division\n",
        "percentage_of_calories\n"
      ],
      "metadata": {
        "colab": {
          "base_uri": "https://localhost:8080/"
        },
        "id": "n3_cQNpcVOXH",
        "outputId": "3928a570-f711-49e8-c142-471dff5bb5df"
      },
      "execution_count": 15,
      "outputs": [
        {
          "output_type": "execute_result",
          "data": {
            "text/plain": [
              "array([[94.91525424,  0.        ,  2.83140283, 88.42652796],\n",
              "       [ 2.03389831, 43.51464435, 33.46203346, 10.40312094],\n",
              "       [ 3.05084746, 56.48535565, 63.70656371,  1.17035111]])"
            ]
          },
          "metadata": {},
          "execution_count": 15
        }
      ]
    },
    {
      "cell_type": "code",
      "source": [
        "PERCENTAGE=Weight*calories/sum.reshape(1,4)\n",
        "PERCENTAGE"
      ],
      "metadata": {
        "colab": {
          "base_uri": "https://localhost:8080/"
        },
        "id": "sKEurSUeX7my",
        "outputId": "8867b94d-a4e5-4c4b-ad7a-57ebc98a3b64"
      },
      "execution_count": 19,
      "outputs": [
        {
          "output_type": "execute_result",
          "data": {
            "text/plain": [
              "array([[94.91525424,  0.        ,  2.83140283, 88.42652796],\n",
              "       [ 2.03389831, 43.51464435, 33.46203346, 10.40312094],\n",
              "       [ 3.05084746, 56.48535565, 63.70656371,  1.17035111]])"
            ]
          },
          "metadata": {},
          "execution_count": 19
        }
      ]
    },
    {
      "cell_type": "markdown",
      "source": [
        "#Other examples of broad casting"
      ],
      "metadata": {
        "id": "anb0_uhWZbaG"
      }
    },
    {
      "cell_type": "code",
      "source": [
        "A=[1,2,3]\n",
        "b=[100,100,100]\n",
        "c=100\n",
        "A+b\n",
        "#this happened beacuase python took them as list"
      ],
      "metadata": {
        "colab": {
          "base_uri": "https://localhost:8080/"
        },
        "id": "mTgT4ioqZaBc",
        "outputId": "3d282f04-2204-4151-be0b-2e7eeb860afd"
      },
      "execution_count": 25,
      "outputs": [
        {
          "output_type": "execute_result",
          "data": {
            "text/plain": [
              "[1, 2, 3, 100, 100, 100]"
            ]
          },
          "metadata": {},
          "execution_count": 25
        }
      ]
    },
    {
      "cell_type": "code",
      "source": [
        "A=np.array([1,2,3])\n",
        "b=np.array([100,100,100])\n",
        "c=100\n",
        "print(A+b)\n",
        "A+c"
      ],
      "metadata": {
        "colab": {
          "base_uri": "https://localhost:8080/"
        },
        "id": "Elv3hOxRaaAj",
        "outputId": "113577e4-9db1-4ff0-b2ab-c288122f3887"
      },
      "execution_count": 27,
      "outputs": [
        {
          "output_type": "stream",
          "name": "stdout",
          "text": [
            "[101 102 103]\n"
          ]
        },
        {
          "output_type": "execute_result",
          "data": {
            "text/plain": [
              "array([101, 102, 103])"
            ]
          },
          "metadata": {},
          "execution_count": 27
        }
      ]
    },
    {
      "cell_type": "code",
      "source": [
        "A=np.array([[1,2,3],[1,2,3]])\n",
        "print(A+b)\n",
        "print(A+c)"
      ],
      "metadata": {
        "colab": {
          "base_uri": "https://localhost:8080/"
        },
        "id": "6uFLGRyZarSm",
        "outputId": "8aaf742d-64c1-4995-fab6-52222646c11b"
      },
      "execution_count": 29,
      "outputs": [
        {
          "output_type": "stream",
          "name": "stdout",
          "text": [
            "[[101 102 103]\n",
            " [101 102 103]]\n",
            "[[101 102 103]\n",
            " [101 102 103]]\n"
          ]
        }
      ]
    },
    {
      "cell_type": "code",
      "source": [
        "d=np.array([[50],[100]])\n",
        "print(A+d)"
      ],
      "metadata": {
        "colab": {
          "base_uri": "https://localhost:8080/"
        },
        "id": "7tttajbYbHr9",
        "outputId": "fe9cefaa-25d7-48d9-eb96-d22177bdb6f6"
      },
      "execution_count": 36,
      "outputs": [
        {
          "output_type": "stream",
          "name": "stdout",
          "text": [
            "[[ 51  52  53]\n",
            " [101 102 103]]\n"
          ]
        }
      ]
    }
  ]
}