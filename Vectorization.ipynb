{
  "nbformat": 4,
  "nbformat_minor": 0,
  "metadata": {
    "colab": {
      "provenance": [],
      "authorship_tag": "ABX9TyOM7v4rNqx/XO3Zb68EC4Gh",
      "include_colab_link": true
    },
    "kernelspec": {
      "name": "python3",
      "display_name": "Python 3"
    },
    "language_info": {
      "name": "python"
    }
  },
  "cells": [
    {
      "cell_type": "markdown",
      "metadata": {
        "id": "view-in-github",
        "colab_type": "text"
      },
      "source": [
        "<a href=\"https://colab.research.google.com/github/karishmasd/Neural_Networks/blob/main/Vectorization.ipynb\" target=\"_parent\"><img src=\"https://colab.research.google.com/assets/colab-badge.svg\" alt=\"Open In Colab\"/></a>"
      ]
    },
    {
      "cell_type": "markdown",
      "source": [
        "**Vectorization**\n",
        "\n",
        "Vectorization is a technique to perform operations on entire arrays instead of looping through individual elements."
      ],
      "metadata": {
        "id": "rJlmDAYCF7fG"
      }
    },
    {
      "cell_type": "code",
      "execution_count": 3,
      "metadata": {
        "colab": {
          "base_uri": "https://localhost:8080/"
        },
        "id": "ELw9jeVAFqg4",
        "outputId": "407954f6-4d51-489a-a3b9-f0af16c1fe5a"
      },
      "outputs": [
        {
          "output_type": "stream",
          "name": "stdout",
          "text": [
            "[1 2 3 4]\n"
          ]
        },
        {
          "output_type": "execute_result",
          "data": {
            "text/plain": [
              "numpy.ndarray"
            ]
          },
          "metadata": {},
          "execution_count": 3
        }
      ],
      "source": [
        "import numpy as np\n",
        "a =np.array([1,2,3,4])\n",
        "print(a)\n",
        "type(a)"
      ]
    },
    {
      "cell_type": "code",
      "source": [
        "import time as t #to see how long the fuctions take to perform\n",
        "a=np.random.rand(1000000)\n",
        "b=np.random.rand(1000000)\n",
        "tic=t.time()\n",
        "c=np.dot(a,b)\n",
        "toc=t.time()\n",
        "print(\"The Vectorized version :\",str(1000*(toc-tic)), \" milliseconds\")"
      ],
      "metadata": {
        "colab": {
          "base_uri": "https://localhost:8080/"
        },
        "id": "ltef8l4CGQtQ",
        "outputId": "64463634-2679-49e4-d850-1b020624965d"
      },
      "execution_count": 15,
      "outputs": [
        {
          "output_type": "stream",
          "name": "stdout",
          "text": [
            "The Vectorized version : 1.5246868133544922  milliseconds\n"
          ]
        }
      ]
    },
    {
      "cell_type": "code",
      "source": [
        "c=0\n",
        "tic=t.time()\n",
        "for i in range(1000000):\n",
        "  c+=a[i]*b[i]\n",
        "toc=t.time()\n",
        "print(\"The Non Vectorized version :\",str(1000*(toc-tic)), \" milliseconds\")"
      ],
      "metadata": {
        "colab": {
          "base_uri": "https://localhost:8080/"
        },
        "id": "v7Ttl731Ho6v",
        "outputId": "8c95fc84-2886-4ba9-b95e-ec77fad04327"
      },
      "execution_count": 17,
      "outputs": [
        {
          "output_type": "stream",
          "name": "stdout",
          "text": [
            "The Non Vectorized version : 466.95899963378906  milliseconds\n"
          ]
        }
      ]
    }
  ]
}