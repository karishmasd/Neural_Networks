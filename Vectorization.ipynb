{
  "nbformat": 4,
  "nbformat_minor": 0,
  "metadata": {
    "colab": {
      "provenance": [],
      "authorship_tag": "ABX9TyNDOEnsC76yW2AmUu/VK76N",
      "include_colab_link": true
    },
    "kernelspec": {
      "name": "python3",
      "display_name": "Python 3"
    },
    "language_info": {
      "name": "python"
    }
  },
  "cells": [
    {
      "cell_type": "markdown",
      "metadata": {
        "id": "view-in-github",
        "colab_type": "text"
      },
      "source": [
        "<a href=\"https://colab.research.google.com/github/karishmasd/Neural_Networks/blob/main/Vectorization.ipynb\" target=\"_parent\"><img src=\"https://colab.research.google.com/assets/colab-badge.svg\" alt=\"Open In Colab\"/></a>"
      ]
    },
    {
      "cell_type": "markdown",
      "source": [
        "**Vectorization**\n",
        "\n",
        "Vectorization is a technique to perform operations on entire arrays instead of looping through individual elements."
      ],
      "metadata": {
        "id": "rJlmDAYCF7fG"
      }
    },
    {
      "cell_type": "code",
      "execution_count": 2,
      "metadata": {
        "colab": {
          "base_uri": "https://localhost:8080/"
        },
        "id": "ELw9jeVAFqg4",
        "outputId": "43c3445f-9ff1-420d-806a-ce4c6212ed75"
      },
      "outputs": [
        {
          "output_type": "stream",
          "name": "stdout",
          "text": [
            "[1 2 3 4]\n"
          ]
        },
        {
          "output_type": "execute_result",
          "data": {
            "text/plain": [
              "numpy.ndarray"
            ]
          },
          "metadata": {},
          "execution_count": 2
        }
      ],
      "source": [
        "import numpy as np\n",
        "a =np.array([1,2,3,4])\n",
        "print(a)\n",
        "type(a)"
      ]
    },
    {
      "cell_type": "code",
      "source": [
        "import time as t #to see how long the fuctions take to perform\n",
        "a=np.random.rand(1000000)\n",
        "b=np.random.rand(1000000)\n",
        "tic=t.time()\n",
        "c=np.dot(a,b)\n",
        "toc=t.time()\n",
        "print(\"The Vectorized version :\",str(1000*(toc-tic)), \" milliseconds\")"
      ],
      "metadata": {
        "colab": {
          "base_uri": "https://localhost:8080/"
        },
        "id": "ltef8l4CGQtQ",
        "outputId": "903423f3-7d68-4177-8550-800622b7a25e"
      },
      "execution_count": 3,
      "outputs": [
        {
          "output_type": "stream",
          "name": "stdout",
          "text": [
            "The Vectorized version : 2.590656280517578  milliseconds\n"
          ]
        }
      ]
    },
    {
      "cell_type": "code",
      "source": [
        "c=0\n",
        "tic=t.time()\n",
        "for i in range(1000000):\n",
        "  c+=a[i]*b[i]\n",
        "toc=t.time()\n",
        "print(\"The Non Vectorized version :\",str(1000*(toc-tic)), \" milliseconds\")"
      ],
      "metadata": {
        "colab": {
          "base_uri": "https://localhost:8080/"
        },
        "id": "v7Ttl731Ho6v",
        "outputId": "39430156-e9a3-4449-bbc3-86718d9c0b17"
      },
      "execution_count": 4,
      "outputs": [
        {
          "output_type": "stream",
          "name": "stdout",
          "text": [
            "The Non Vectorized version : 566.5442943572998  milliseconds\n"
          ]
        }
      ]
    },
    {
      "cell_type": "markdown",
      "source": [
        "Example:   **Dot product**\n"
      ],
      "metadata": {
        "id": "dieOqxUzfbyr"
      }
    },
    {
      "cell_type": "code",
      "source": [
        "A=np.random.rand(100,100) #A is a matrix of 100*100\n",
        "v=np.random.rand(100,1) #v is a vector of 100*1\n",
        "u=np.zeros((100,1)) #u is vector of full of zeroes 100*1\n",
        "tic=t.time()\n",
        "for i in range(100):\n",
        "  for j in range(100):\n",
        "    u[i]=A[i][j]*v[j]\n",
        "toc=t.time()\n",
        "print(\"The Non Vectorized version :\",str(1000*(toc-tic)), \" milliseconds\")\n"
      ],
      "metadata": {
        "colab": {
          "base_uri": "https://localhost:8080/"
        },
        "id": "QMyH7FY9fd0t",
        "outputId": "da24aeea-c47a-4a8a-d1d9-6200b4699517"
      },
      "execution_count": 5,
      "outputs": [
        {
          "output_type": "stream",
          "name": "stdout",
          "text": [
            "The Non Vectorized version : 33.19382667541504  milliseconds\n"
          ]
        }
      ]
    },
    {
      "cell_type": "code",
      "source": [
        "tic=t.time()\n",
        "u=np.dot(A,v) #dot product of A and v\n",
        "toc=t.time()\n",
        "print(\"The Vectorized version :\",str(1000*(toc-tic)), \" milliseconds\")"
      ],
      "metadata": {
        "colab": {
          "base_uri": "https://localhost:8080/"
        },
        "id": "G_6CQPFBgbvY",
        "outputId": "ac9357c1-4b83-4f30-abbf-a740379108fe"
      },
      "execution_count": 6,
      "outputs": [
        {
          "output_type": "stream",
          "name": "stdout",
          "text": [
            "The Vectorized version : 5.535364151000977  milliseconds\n"
          ]
        }
      ]
    },
    {
      "cell_type": "markdown",
      "source": [
        "Example:  Let's say you already have a vector, v, in memory and you want to apply the exponential operation on every element of this vector v"
      ],
      "metadata": {
        "id": "MvTDnsEekjn7"
      }
    },
    {
      "cell_type": "code",
      "source": [
        "import math\n",
        "n=100\n",
        "\n",
        "u=np.zeros((n,1))\n",
        "tic=t.time()\n",
        "for i in range(n):\n",
        "  u[i]=math.exp(v[i])\n",
        "toc=t.time()\n",
        "print(\"The Non Vectorized version :\",str(1000*(toc-tic)), \" milliseconds\")\n",
        "#"
      ],
      "metadata": {
        "colab": {
          "base_uri": "https://localhost:8080/"
        },
        "id": "amje7oT6IraU",
        "outputId": "d1802785-9316-4851-ec39-c49164793f45"
      },
      "execution_count": 16,
      "outputs": [
        {
          "output_type": "stream",
          "name": "stdout",
          "text": [
            "The Non Vectorized version : 2.3224353790283203  milliseconds\n"
          ]
        },
        {
          "output_type": "stream",
          "name": "stderr",
          "text": [
            "<ipython-input-16-2c4f8439543c>:7: DeprecationWarning: Conversion of an array with ndim > 0 to a scalar is deprecated, and will error in future. Ensure you extract a single element from your array before performing this operation. (Deprecated NumPy 1.25.)\n",
            "  u[i]=math.exp(v[i])\n"
          ]
        }
      ]
    },
    {
      "cell_type": "code",
      "source": [
        "import numpy as np\n",
        "tic=t.time()\n",
        "u=np.exp(v)\n",
        "toc=t.time()\n",
        "print(\"The Vectorized version :\",str(1000*(toc-tic)), \" milliseconds\")"
      ],
      "metadata": {
        "colab": {
          "base_uri": "https://localhost:8080/"
        },
        "id": "FsbXZuRMKQrw",
        "outputId": "7d6261af-46b9-4934-9670-761d4d2fd7f8"
      },
      "execution_count": 18,
      "outputs": [
        {
          "output_type": "stream",
          "name": "stdout",
          "text": [
            "The Vectorized version : 0.12755393981933594  milliseconds\n"
          ]
        }
      ]
    }
  ]
}