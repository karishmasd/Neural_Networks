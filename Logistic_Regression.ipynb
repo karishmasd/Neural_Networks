{
  "nbformat": 4,
  "nbformat_minor": 0,
  "metadata": {
    "colab": {
      "provenance": [],
      "authorship_tag": "ABX9TyMn32DPdDVI++vivRxBqhqL",
      "include_colab_link": true
    },
    "kernelspec": {
      "name": "python3",
      "display_name": "Python 3"
    },
    "language_info": {
      "name": "python"
    }
  },
  "cells": [
    {
      "cell_type": "markdown",
      "metadata": {
        "id": "view-in-github",
        "colab_type": "text"
      },
      "source": [
        "<a href=\"https://colab.research.google.com/github/karishmasd/Neural_Networks/blob/main/Logistic_Regression.ipynb\" target=\"_parent\"><img src=\"https://colab.research.google.com/assets/colab-badge.svg\" alt=\"Open In Colab\"/></a>"
      ]
    },
    {
      "cell_type": "markdown",
      "source": [
        "#Logistic Regression with a Neural Network mindset\n",
        "\n"
      ],
      "metadata": {
        "id": "O5SzW4ZLsI8h"
      }
    },
    {
      "cell_type": "code",
      "execution_count": 4,
      "metadata": {
        "id": "8uXZblxcqdG2"
      },
      "outputs": [],
      "source": [
        "import numpy as np\n"
      ]
    },
    {
      "cell_type": "code",
      "source": [
        "def sigmoid(z):\n",
        "  s=1/(1+np.exp(-z))\n",
        "  return s"
      ],
      "metadata": {
        "id": "YKDdlg1Ns0CE"
      },
      "execution_count": 5,
      "outputs": []
    },
    {
      "cell_type": "code",
      "source": [
        "print(str(sigmoid(np.array([0,2]))))"
      ],
      "metadata": {
        "colab": {
          "base_uri": "https://localhost:8080/"
        },
        "id": "ty3KMH8zu7OL",
        "outputId": "32cc2ef0-d5cc-4997-cad6-133dc6d6d473"
      },
      "execution_count": 8,
      "outputs": [
        {
          "output_type": "stream",
          "name": "stdout",
          "text": [
            "[0.5        0.88079708]\n"
          ]
        }
      ]
    },
    {
      "cell_type": "code",
      "source": [
        "z= np.array([1,3,5,7])\n",
        "sigmoid(z)"
      ],
      "metadata": {
        "colab": {
          "base_uri": "https://localhost:8080/"
        },
        "id": "Fl5kBBamu-5G",
        "outputId": "491502b7-e2b3-424b-a1cf-3ea5a18a5e83"
      },
      "execution_count": 10,
      "outputs": [
        {
          "output_type": "execute_result",
          "data": {
            "text/plain": [
              "array([0.73105858, 0.95257413, 0.99330715, 0.99908895])"
            ]
          },
          "metadata": {},
          "execution_count": 10
        }
      ]
    },
    {
      "cell_type": "markdown",
      "source": [
        "intitalizing parameters (w,b)"
      ],
      "metadata": {
        "id": "ltY2hL-7vzCE"
      }
    },
    {
      "cell_type": "code",
      "source": [
        "def initialize_with_zeros(dim):\n",
        "  w=np.zeros((dim,1))\n",
        "  b=0.00\n",
        "  return w,b"
      ],
      "metadata": {
        "id": "ZHwsSrS7vqnV"
      },
      "execution_count": 12,
      "outputs": []
    },
    {
      "cell_type": "code",
      "source": [
        "dim=10\n",
        "initialize_with_zeros(dim)"
      ],
      "metadata": {
        "colab": {
          "base_uri": "https://localhost:8080/"
        },
        "id": "_Y_DwlLhwZGv",
        "outputId": "143a58fe-62eb-46ad-947f-8cdf83971ef6"
      },
      "execution_count": 16,
      "outputs": [
        {
          "output_type": "execute_result",
          "data": {
            "text/plain": [
              "(array([[0.],\n",
              "        [0.],\n",
              "        [0.],\n",
              "        [0.],\n",
              "        [0.],\n",
              "        [0.],\n",
              "        [0.],\n",
              "        [0.],\n",
              "        [0.],\n",
              "        [0.]]),\n",
              " 0.0)"
            ]
          },
          "metadata": {},
          "execution_count": 16
        }
      ]
    },
    {
      "cell_type": "code",
      "source": [
        "def propagate(w,b,X,Y):\n",
        "  m=100 #no of training examples that is X (nump_x*nump_x*3,m )\n",
        "  A=sigmoid(np.dot(w.T,X)+b)\n",
        "  #Cost function\n",
        "  J=(-1/m)*(Y*np.log(A)+(1-Y)*np.log(1-A))\n",
        "  dw=(1/m)*np.dot(X,(A-Y).T)\n",
        "  db=(1/m)* np.sum(A-Y)\n",
        "  Cost=J\n",
        "  grads= {\"dw\":dw,\"db\":db}\n",
        "  return grads,Cost"
      ],
      "metadata": {
        "id": "Qkhydu7rwrZF"
      },
      "execution_count": 24,
      "outputs": []
    },
    {
      "cell_type": "code",
      "source": [
        "w =  np.array([[1.], [2]])\n",
        "b = 1.5\n",
        "\n",
        "# X is using 3 examples, with 2 features each\n",
        "# Each example is stacked column-wise\n",
        "X = np.array([[1., -2., -1.], [3., 0.5, -3.2]])\n",
        "Y = np.array([[1, 1, 0]])\n",
        "propagate(w, b, X, Y)"
      ],
      "metadata": {
        "colab": {
          "base_uri": "https://localhost:8080/"
        },
        "id": "6KmB1PcQ0A-J",
        "outputId": "32f725f1-db0a-4d2c-8609-a42662b53d5e"
      },
      "execution_count": 26,
      "outputs": [
        {
          "output_type": "execute_result",
          "data": {
            "text/plain": [
              "({'dw': array([[ 0.00752146],\n",
              "         [-0.00198123]]),\n",
              "  'db': -0.003750121350131895},\n",
              " array([[2.03447672e-06, 4.74076984e-03, 2.73569938e-05]]))"
            ]
          },
          "metadata": {},
          "execution_count": 26
        }
      ]
    },
    {
      "cell_type": "markdown",
      "source": [
        "Optimization"
      ],
      "metadata": {
        "id": "OP1gsuI51BX-"
      }
    },
    {
      "cell_type": "code",
      "source": [
        "def optimize(w, b, X, Y, num_iterations, learning_rate, print_Cost=False):\n",
        "  Costs = []\n",
        "  for i in range(num_iterations):\n",
        "    grads, Cost = propagate(w, b, X, Y)\n",
        "    dw = grads[\"dw\"]\n",
        "    db = grads[\"db\"]\n",
        "    w = w - learning_rate * dw\n",
        "    b = b - learning_rate * db\n",
        "\n",
        "    if i % 100 == 0:\n",
        "      Costs.append(Cost)\n",
        "      if print_Cost:\n",
        "        print(\"Cost after iteration %i: %f\" % (i, Cost))\n",
        "\n",
        "  # Return statement moved outside the loop\n",
        "  params = {\"w\": w, \"b\": b}\n",
        "  grads = {\"dw\": dw, \"db\": db}\n",
        "  return params, grads, Costs"
      ],
      "metadata": {
        "id": "MXN6JtEs_PGs"
      },
      "execution_count": 62,
      "outputs": []
    },
    {
      "cell_type": "code",
      "source": [
        "optimize(w,b,X,Y,num_iterations=100,learning_rate=0.002,print_Cost=False)"
      ],
      "metadata": {
        "colab": {
          "base_uri": "https://localhost:8080/"
        },
        "id": "lb_MvHFX4_O4",
        "outputId": "00ae86fb-e456-451b-bf67-c4becfd562ac"
      },
      "execution_count": 66,
      "outputs": [
        {
          "output_type": "execute_result",
          "data": {
            "text/plain": [
              "({'w': array([[0.99849755],\n",
              "         [2.00039579]]),\n",
              "  'b': 1.5007491020135186},\n",
              " {'dw': array([[ 0.00750305],\n",
              "         [-0.00197672]]),\n",
              "  'db': -0.003740903956207224},\n",
              " [array([[2.03447672e-06, 4.74076984e-03, 2.73569938e-05]])])"
            ]
          },
          "metadata": {},
          "execution_count": 66
        }
      ]
    },
    {
      "cell_type": "code",
      "source": [],
      "metadata": {
        "id": "Y4fwcGCg5kio"
      },
      "execution_count": null,
      "outputs": []
    }
  ]
}